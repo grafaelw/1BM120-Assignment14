{
 "cells": [
  {
   "attachments": {},
   "cell_type": "markdown",
   "id": "af96c8fc",
   "metadata": {},
   "source": [
    "# Assignment 2 - Convolutional Neural Network"
   ]
  },
  {
   "cell_type": "code",
   "execution_count": 8,
   "id": "45f620f3",
   "metadata": {},
   "outputs": [
    {
     "name": "stdout",
     "output_type": "stream",
     "text": [
      "Datapoints for training is 136 and for test is 34\n"
     ]
    }
   ],
   "source": [
    "from torchvision import transforms, datasets\n",
    "from matplotlib import pyplot as plt\n",
    "import numpy as np\n",
    "import torch\n",
    "\n",
    "def load_dataset(train_path=r\"WF-data/train\", test_path=r\"WF-data/test\"):\n",
    "\n",
    "    transform = transforms.Compose([transforms.Resize([105, 78]),\n",
    "                                    transforms.CenterCrop(size=[60, 30]),\n",
    "                                    transforms.ToTensor()])\n",
    "    # target_transform = {\"ng\": 0, \"ok\": 1}\n",
    "\n",
    "    train_dataset = datasets.ImageFolder(train_path, transform=transform, target_transform=None)\n",
    "    test_dataset = datasets.ImageFolder(test_path, transform=transform, target_transform=None)\n",
    "\n",
    "    return train_dataset, test_dataset\n",
    "\n",
    "\n",
    "train_dataset, test_dataset = load_dataset()\n",
    "print(f\"Datapoints for training is {len(train_dataset)} and for test is {len(test_dataset)}\")"
   ]
  },
  {
   "cell_type": "code",
   "execution_count": null,
   "id": "5fe67c09",
   "metadata": {},
   "outputs": [],
   "source": [
    "# Displaying one sample image from the ImageFolder dataset\n",
    "\n",
    "img, labels = train_dataset[100][0], train_dataset[100][1]\n",
    "plt.imshow(img.permute(1,2,0))\n",
    "plt.title(labels)\n",
    "plt.axis(False)"
   ]
  },
  {
   "attachments": {},
   "cell_type": "markdown",
   "id": "51b423c8",
   "metadata": {},
   "source": [
    "The Convolutional Neural Network is based on the VGG architecture, which is a good model"
   ]
  },
  {
   "cell_type": "code",
   "execution_count": null,
   "id": "418d9855",
   "metadata": {},
   "outputs": [],
   "source": [
    "# Let's build a CNN!\n",
    "import torch.nn as nn\n",
    "    \n",
    "class ConvNeuralNet(nn.Module):\n",
    "\t#  Determine what layers and their order in CNN object \n",
    "    def __init__(self, num_classes=2):\n",
    "        super(ConvNeuralNet, self).__init__()\n",
    "        self.layer1 = nn.Sequential(\n",
    "                                    nn.Conv2d(3, 32, kernel_size = 3, stride = 1, padding = 1),\n",
    "                                    nn.BatchNorm2d(32),\n",
    "                                    nn.ReLU())\n",
    "        self.layer2 = nn.Sequential(\n",
    "                                    nn.Conv2d(32, 64, kernel_size = 3, stride = 1, padding = 1),\n",
    "                                    nn.BatchNorm2d(64),\n",
    "                                    nn.ReLU(),\n",
    "                                    nn.MaxPool2d(kernel_size = 2, stride = 2))\n",
    "        self.layer3 = nn.Sequential(\n",
    "                                    nn.Conv2d(64, 128, kernel_size = 3, stride = 1, padding = 1),\n",
    "                                    nn.BatchNorm2d(128),\n",
    "                                    nn.ReLU())\n",
    "        self.layer4 = nn.Sequential(\n",
    "                                    nn.Conv2d(128, 128, kernel_size = 3, stride = 1, padding = 1),\n",
    "                                    nn.BatchNorm2d(128),\n",
    "                                    nn.ReLU(),\n",
    "                                    nn.MaxPool2d(kernel_size = 2, stride = 2))\n",
    "\n",
    "        self.fc1 = nn.Sequential(nn.Dropout(0.5), nn.Linear(7*15*128, 4096), nn.ReLU())\n",
    "        self.fc2 = nn.Sequential(nn.Dropout(0.5), nn.Linear(4096, 128), nn.ReLU())\n",
    "        self.dense = nn.Linear(128, num_classes)\n",
    "    \n",
    "    # Progresses data across layers    \n",
    "    def forward(self, x):\n",
    "        out = self.layer1(x)\n",
    "        out = self.layer2(out)\n",
    "        out = self.layer3(out)\n",
    "        out = self.layer4(out)\n",
    "        out = out.reshape(out.size(0), -1)\n",
    "        out = self.fc1(out)\n",
    "        out = self.fc2(out)\n",
    "        return self.dense(out)"
   ]
  },
  {
   "cell_type": "code",
   "execution_count": null,
   "id": "14fa882f",
   "metadata": {},
   "outputs": [],
   "source": [
    "from torch.utils.data import DataLoader\n",
    "\n",
    "dev = torch.device('mps' if torch.backends.mps.is_available() else 'cpu')\n",
    "\n",
    "# Create data loaders\n",
    "batch_size = 5\n",
    "train_loader = DataLoader(dataset=train_dataset, batch_size=batch_size, shuffle=True)\n",
    "test_loader = DataLoader(dataset=test_dataset, batch_size=batch_size, shuffle=False)"
   ]
  },
  {
   "cell_type": "code",
   "execution_count": null,
   "id": "678258ff",
   "metadata": {},
   "outputs": [],
   "source": [
    "# Creating the Early Stopping class\n",
    "class EarlyStopping:\n",
    "    def __init__(self, tolerance=5, min_delta=0):\n",
    "\n",
    "        self.tolerance = tolerance\n",
    "        self.min_delta = min_delta\n",
    "        self.counter = 0\n",
    "        self.early_stop = False\n",
    "\n",
    "    def __call__(self, train_loss, validation_loss):\n",
    "        if (validation_loss - train_loss) > self.min_delta:\n",
    "            self.counter +=1\n",
    "            if self.counter >= self.tolerance:  \n",
    "                self.early_stop = True\n",
    "\n",
    "\n",
    "# Define model, loss function, optimizer and other hyper-parameters\n",
    "import torch.optim as optim\n",
    "\n",
    "model = ConvNeuralNet().to(dev) # Based on VGG architecture\n",
    "criterion = nn.CrossEntropyLoss()\n",
    "optimizer = optim.Adam(model.parameters(), lr=0.001)\n",
    "early_stopping = EarlyStopping(tolerance=2, min_delta=2)"
   ]
  },
  {
   "cell_type": "code",
   "execution_count": null,
   "id": "f6deb436",
   "metadata": {},
   "outputs": [],
   "source": [
    "# Train the model\n",
    "from tqdm.auto import tqdm as tqdm\n",
    "\n",
    "num_epochs = 30\n",
    "for epoch in range(num_epochs):\n",
    "    model.train()\n",
    "    train_loss = 0.0\n",
    "    train_correct = 0\n",
    "    test_correct = 0\n",
    "\n",
    "    for _, (images, labels) in enumerate(tqdm(train_loader, position=0, leave=True, ascii=False)):\n",
    "        \n",
    "        images = images.to(dev)\n",
    "        labels = labels.to(dev)\n",
    "\n",
    "        optimizer.zero_grad() # Zero out the gradients for initialisation\n",
    "        outputs = model(images) # Compute output for Forward pass\n",
    "        loss = criterion(outputs, labels) # Compute loss\n",
    "        loss.backward() # Perform backpropagation step\n",
    "        optimizer.step() # Update the weights\n",
    "\n",
    "        train_loss += loss.item()\n",
    "        _, predicted = torch.max(outputs.data, 1)\n",
    "        train_correct += (predicted == labels).sum().item()\n",
    "        del images, labels, outputs \n",
    "\n",
    "    train_loss /= len(train_loader)\n",
    "    train_accuracy = train_correct / len(train_dataset)\n",
    "    \n",
    "\n",
    "   # Validation Process\n",
    "    with torch.no_grad(): \n",
    "        valid_correct = 0\n",
    "        total = 0\n",
    "        valid_loss = 0\n",
    "        model.eval()\n",
    "        for _, (images, labels) in enumerate(tqdm(test_loader, position=0, leave=False, ascii=False)):\n",
    "            images = images.to(dev)\n",
    "            labels = labels.to(dev)\n",
    "            \n",
    "            outputs = model(images)\n",
    "\n",
    "            # _, predicted = torch.max(outputs.data, 1)\n",
    "            # valid_correct += (predicted == labels).sum().item()\n",
    "            valid_loss += criterion(outputs, labels).item()\n",
    "            \n",
    "\n",
    "    # Early Stopping for avoiding overfit\n",
    "    print(f'Epoch {epoch+1}: Train Loss= {train_loss:.3f}, Train Accuracy: {train_accuracy:.3f}, Validation Loss = {valid_loss / len(test_loader):.2f}') \n",
    "\n",
    "    if early_stopping(valid_loss, train_loss):\n",
    "        print(\"We are at epoch:\", epoch)\n",
    "        break\n",
    "print('Finished training')\n",
    "\n",
    "\n",
    "# Add your own test here"
   ]
  }
 ],
 "metadata": {
  "kernelspec": {
   "display_name": "Python 3 (ipykernel)",
   "language": "python",
   "name": "python3"
  },
  "language_info": {
   "codemirror_mode": {
    "name": "ipython",
    "version": 3
   },
   "file_extension": ".py",
   "mimetype": "text/x-python",
   "name": "python",
   "nbconvert_exporter": "python",
   "pygments_lexer": "ipython3",
   "version": "3.8.16"
  }
 },
 "nbformat": 4,
 "nbformat_minor": 5
}
