{
 "cells": [
  {
   "cell_type": "markdown",
   "id": "c5a467e7",
   "metadata": {},
   "source": [
    "# Assignment 3"
   ]
  },
  {
   "cell_type": "markdown",
   "id": "bda21068",
   "metadata": {},
   "source": [
    "## The Knapsack-v2 Environment"
   ]
  },
  {
   "cell_type": "code",
   "execution_count": 1,
   "id": "adb9d04a",
   "metadata": {},
   "outputs": [],
   "source": [
    "#!pip install or-gym==0.5.0"
   ]
  },
  {
   "cell_type": "code",
   "execution_count": 2,
   "id": "323f7c5f",
   "metadata": {},
   "outputs": [],
   "source": [
    "#pip install gym==0.21.0"
   ]
  },
  {
   "cell_type": "code",
   "execution_count": 3,
   "id": "a24a6900",
   "metadata": {},
   "outputs": [],
   "source": [
    "#pip install stable-baselines3"
   ]
  },
  {
   "cell_type": "code",
   "execution_count": 4,
   "id": "51884875",
   "metadata": {},
   "outputs": [],
   "source": [
    "import numpy as np\n",
    "import gym\n",
    "import random\n",
    "from collections import deque\n",
    "import matplotlib.pyplot as plt\n",
    "%matplotlib inline"
   ]
  },
  {
   "cell_type": "code",
   "execution_count": 5,
   "id": "164ab0ea",
   "metadata": {},
   "outputs": [],
   "source": [
    "from stable_baselines3 import DQN\n",
    "from stable_baselines3.common.evaluation import evaluate_policy"
   ]
  },
  {
   "cell_type": "code",
   "execution_count": 6,
   "id": "32546476",
   "metadata": {},
   "outputs": [],
   "source": [
    "import or_gym"
   ]
  },
  {
   "cell_type": "code",
   "execution_count": 7,
   "id": "b7fbf44b",
   "metadata": {},
   "outputs": [],
   "source": [
    "env = or_gym.make(\"Knapsack-v2\", max_weight=300, mask=False)"
   ]
  },
  {
   "cell_type": "code",
   "execution_count": 8,
   "id": "241ab63d",
   "metadata": {},
   "outputs": [
    {
     "name": "stdout",
     "output_type": "stream",
     "text": [
      "Action space Discrete(200)\n",
      "State space Box([[0 0 0 0 0 0 0 0 0 0 0 0 0 0 0 0 0 0 0 0 0 0 0 0 0 0 0 0 0 0 0 0 0 0 0 0\n",
      "  0 0 0 0 0 0 0 0 0 0 0 0 0 0 0 0 0 0 0 0 0 0 0 0 0 0 0 0 0 0 0 0 0 0 0 0\n",
      "  0 0 0 0 0 0 0 0 0 0 0 0 0 0 0 0 0 0 0 0 0 0 0 0 0 0 0 0 0 0 0 0 0 0 0 0\n",
      "  0 0 0 0 0 0 0 0 0 0 0 0 0 0 0 0 0 0 0 0 0 0 0 0 0 0 0 0 0 0 0 0 0 0 0 0\n",
      "  0 0 0 0 0 0 0 0 0 0 0 0 0 0 0 0 0 0 0 0 0 0 0 0 0 0 0 0 0 0 0 0 0 0 0 0\n",
      "  0 0 0 0 0 0 0 0 0 0 0 0 0 0 0 0 0 0 0 0 0]\n",
      " [0 0 0 0 0 0 0 0 0 0 0 0 0 0 0 0 0 0 0 0 0 0 0 0 0 0 0 0 0 0 0 0 0 0 0 0\n",
      "  0 0 0 0 0 0 0 0 0 0 0 0 0 0 0 0 0 0 0 0 0 0 0 0 0 0 0 0 0 0 0 0 0 0 0 0\n",
      "  0 0 0 0 0 0 0 0 0 0 0 0 0 0 0 0 0 0 0 0 0 0 0 0 0 0 0 0 0 0 0 0 0 0 0 0\n",
      "  0 0 0 0 0 0 0 0 0 0 0 0 0 0 0 0 0 0 0 0 0 0 0 0 0 0 0 0 0 0 0 0 0 0 0 0\n",
      "  0 0 0 0 0 0 0 0 0 0 0 0 0 0 0 0 0 0 0 0 0 0 0 0 0 0 0 0 0 0 0 0 0 0 0 0\n",
      "  0 0 0 0 0 0 0 0 0 0 0 0 0 0 0 0 0 0 0 0 0]\n",
      " [0 0 0 0 0 0 0 0 0 0 0 0 0 0 0 0 0 0 0 0 0 0 0 0 0 0 0 0 0 0 0 0 0 0 0 0\n",
      "  0 0 0 0 0 0 0 0 0 0 0 0 0 0 0 0 0 0 0 0 0 0 0 0 0 0 0 0 0 0 0 0 0 0 0 0\n",
      "  0 0 0 0 0 0 0 0 0 0 0 0 0 0 0 0 0 0 0 0 0 0 0 0 0 0 0 0 0 0 0 0 0 0 0 0\n",
      "  0 0 0 0 0 0 0 0 0 0 0 0 0 0 0 0 0 0 0 0 0 0 0 0 0 0 0 0 0 0 0 0 0 0 0 0\n",
      "  0 0 0 0 0 0 0 0 0 0 0 0 0 0 0 0 0 0 0 0 0 0 0 0 0 0 0 0 0 0 0 0 0 0 0 0\n",
      "  0 0 0 0 0 0 0 0 0 0 0 0 0 0 0 0 0 0 0 0 0]], [[300 300 300 300 300 300 300 300 300 300 300 300 300 300 300 300 300 300\n",
      "  300 300 300 300 300 300 300 300 300 300 300 300 300 300 300 300 300 300\n",
      "  300 300 300 300 300 300 300 300 300 300 300 300 300 300 300 300 300 300\n",
      "  300 300 300 300 300 300 300 300 300 300 300 300 300 300 300 300 300 300\n",
      "  300 300 300 300 300 300 300 300 300 300 300 300 300 300 300 300 300 300\n",
      "  300 300 300 300 300 300 300 300 300 300 300 300 300 300 300 300 300 300\n",
      "  300 300 300 300 300 300 300 300 300 300 300 300 300 300 300 300 300 300\n",
      "  300 300 300 300 300 300 300 300 300 300 300 300 300 300 300 300 300 300\n",
      "  300 300 300 300 300 300 300 300 300 300 300 300 300 300 300 300 300 300\n",
      "  300 300 300 300 300 300 300 300 300 300 300 300 300 300 300 300 300 300\n",
      "  300 300 300 300 300 300 300 300 300 300 300 300 300 300 300 300 300 300\n",
      "  300 300 300]\n",
      " [300 300 300 300 300 300 300 300 300 300 300 300 300 300 300 300 300 300\n",
      "  300 300 300 300 300 300 300 300 300 300 300 300 300 300 300 300 300 300\n",
      "  300 300 300 300 300 300 300 300 300 300 300 300 300 300 300 300 300 300\n",
      "  300 300 300 300 300 300 300 300 300 300 300 300 300 300 300 300 300 300\n",
      "  300 300 300 300 300 300 300 300 300 300 300 300 300 300 300 300 300 300\n",
      "  300 300 300 300 300 300 300 300 300 300 300 300 300 300 300 300 300 300\n",
      "  300 300 300 300 300 300 300 300 300 300 300 300 300 300 300 300 300 300\n",
      "  300 300 300 300 300 300 300 300 300 300 300 300 300 300 300 300 300 300\n",
      "  300 300 300 300 300 300 300 300 300 300 300 300 300 300 300 300 300 300\n",
      "  300 300 300 300 300 300 300 300 300 300 300 300 300 300 300 300 300 300\n",
      "  300 300 300 300 300 300 300 300 300 300 300 300 300 300 300 300 300 300\n",
      "  300 300 300]\n",
      " [300 300 300 300 300 300 300 300 300 300 300 300 300 300 300 300 300 300\n",
      "  300 300 300 300 300 300 300 300 300 300 300 300 300 300 300 300 300 300\n",
      "  300 300 300 300 300 300 300 300 300 300 300 300 300 300 300 300 300 300\n",
      "  300 300 300 300 300 300 300 300 300 300 300 300 300 300 300 300 300 300\n",
      "  300 300 300 300 300 300 300 300 300 300 300 300 300 300 300 300 300 300\n",
      "  300 300 300 300 300 300 300 300 300 300 300 300 300 300 300 300 300 300\n",
      "  300 300 300 300 300 300 300 300 300 300 300 300 300 300 300 300 300 300\n",
      "  300 300 300 300 300 300 300 300 300 300 300 300 300 300 300 300 300 300\n",
      "  300 300 300 300 300 300 300 300 300 300 300 300 300 300 300 300 300 300\n",
      "  300 300 300 300 300 300 300 300 300 300 300 300 300 300 300 300 300 300\n",
      "  300 300 300 300 300 300 300 300 300 300 300 300 300 300 300 300 300 300\n",
      "  300 300 300]], (3, 201), int32)\n"
     ]
    }
   ],
   "source": [
    "action_space = env.action_space #Get number of actions in an environment \n",
    "state_space = env.observation_space #Get number of states in an environment \n",
    "print('Action space', action_space)\n",
    "print('State space', state_space)"
   ]
  },
  {
   "cell_type": "code",
   "execution_count": 9,
   "id": "0543a627",
   "metadata": {},
   "outputs": [
    {
     "name": "stdout",
     "output_type": "stream",
     "text": [
      "164\n"
     ]
    }
   ],
   "source": [
    "action = env.action_space.sample() # sample an action from the env instance\n",
    "print(action)"
   ]
  },
  {
   "cell_type": "code",
   "execution_count": 10,
   "id": "8ca560b7",
   "metadata": {},
   "outputs": [
    {
     "data": {
      "text/plain": [
       "(array([[ 83,  61,  33,  37,  84,  79,  44,  55,  93,  62,  93,  55,  95,\n",
       "           1,  40,  59,  37,  73,  61,  56,  55,  31,  80,  94,  35,  75,\n",
       "          63,   9,  33,  49,  37,  33,  56,  39,  45,  90,  90,  65,  23,\n",
       "          57,  52,  10,  18,   9,  49,  72,  29,  47,  57,  58,   7,  26,\n",
       "          97,  83,  23,  77,  85,  54,  17,  97,  91,  69,  29,  56,  89,\n",
       "          41,  93,  94,  88,  57,  43,   7,  93,  16,  55,  19,  94,  23,\n",
       "          43,  24,  29,  89,  59,  34,  88,  12,  17,  38,  30,  26,  90,\n",
       "          28,  79,  21,  74,  14,  34,  58,  33,  70,  55,  44,  85,   4,\n",
       "          99,  51,  52,  96,  27,  35,   9,   3,  82,  73,  58,  98,  14,\n",
       "          82,  54,   2,  16,  71,  43,  51,  87,  32,  70,  73,  21,  81,\n",
       "          78,  51,  16,  29,  65,  40,  76,  48,  62,   9,  77,  72,  80,\n",
       "          99,  31,  58,   4,  13,  78,  70,  43,  25,  76,  60,  11,  42,\n",
       "          41,  48,  36,  90,  53,  12,  18,  76,  51,  17,  35,  97,  33,\n",
       "          70,   5,  60,  57,  43,  52,  85,  78,  79,  73,  39,  70,  87,\n",
       "          21,  38,  93,  72,  54,  85,   3,  29,  19,  37,   6,  40,  41,\n",
       "          68,  80,  78,   9,  26, 300],\n",
       "        [ 32,  47,  25,  46,  44,  78,  83,  73,  68,  22,   1,  31,  20,\n",
       "          34,  70,  30,  86,  29,  69,  59,  13,  29,  62,  57,  23,  85,\n",
       "          68,   8,  17,  95,  87,  49,  16,  81,  85,  85,  68,  11,  74,\n",
       "          62,  84,  17,   2,  55,  96,  38,   5,  17,  29,  19,  47,  68,\n",
       "          62,  49,  21,  51,  37,  49,  95,  74,  77,  72,  80,  76,  58,\n",
       "          53,  95,  42,   1,  48,  51,  75,  71,  65,   9,  73,  19,  91,\n",
       "          18,  23,  12,  80,  14,  49,  66,  21,  40,  83,  85,  10,  86,\n",
       "          80,  13,  11,  51,  37,   3,  78,  44,  26,   6,  71,  45,   2,\n",
       "          23,  36,   3,  78,  97,  68,  58,   4,  19,  60,  60,  87,  25,\n",
       "          41,  53,  81,  72,  53,  81,  87,  90,  18,  34,  67,  62,  30,\n",
       "          11,  16,  73,  38,  17,  14,  35,  74,  30,  41,  62,  54,  31,\n",
       "          86,  33,  28,  94,  10,  93,  60,  93,  52,  36,  34,   5,  34,\n",
       "          70,  25,   5,  55,  83,  81,  48,  59,  60,  75,  73,  67,  55,\n",
       "          79,  79,  85,  46,  11,   8,  46,  17,  93,   7,  95,  20,  51,\n",
       "           9,  55,  69,  66,  99,  40,  35,  93,  11,  62,  26,  28,  40,\n",
       "          37,   1,  84,  42,  65,  51],\n",
       "        [  6,   1,   9,   6,   8,   6,   7,   3,   9,   5,   5,   3,   6,\n",
       "           9,   3,   3,   9,   2,   2,   1,   8,   9,   1,   4,   3,   7,\n",
       "           1,   2,   1,   5,   5,   4,   6,   2,   2,   4,   5,   1,   6,\n",
       "           9,   1,   7,   3,   4,   6,   5,   7,   2,   7,   6,   2,   4,\n",
       "           7,   4,   5,   3,   4,   3,   4,   7,   6,   3,   8,   3,   7,\n",
       "           3,   2,   5,   8,   1,   7,   1,   1,   9,   3,   4,   5,   8,\n",
       "           7,   7,   2,   8,   3,   8,   2,   6,   3,   8,   7,   2,   7,\n",
       "           4,   8,   4,   6,   2,   9,   3,   8,   5,   6,   6,   9,   2,\n",
       "           6,   8,   5,   8,   4,   7,   2,   5,   3,   1,   4,   9,   6,\n",
       "           2,   8,   4,   8,   2,   8,   4,   8,   7,   7,   4,   6,   4,\n",
       "           7,   6,   5,   5,   5,   6,   7,   6,   8,   9,   5,   5,   1,\n",
       "           7,   9,   8,   1,   7,   5,   8,   2,   7,   6,   4,   3,   6,\n",
       "           3,   4,   1,   2,   8,   8,   2,   6,   2,   9,   2,   4,   2,\n",
       "           6,   8,   1,   3,   1,   5,   4,   1,   3,   5,   5,   1,   5,\n",
       "           4,   1,   4,   4,   4,   9,   7,   5,   6,   5,   7,   7,   1,\n",
       "           2,   1,   7,   5,   3,   0]]),\n",
       " 60,\n",
       " False,\n",
       " {})"
      ]
     },
     "execution_count": 10,
     "metadata": {},
     "output_type": "execute_result"
    }
   ],
   "source": [
    "env.reset()\n",
    "env.step(action) # call the step function of the env. and inspect quadruple of (state, reward, done, info)"
   ]
  },
  {
   "cell_type": "code",
   "execution_count": 11,
   "id": "4b3997bf",
   "metadata": {},
   "outputs": [
    {
     "name": "stdout",
     "output_type": "stream",
     "text": [
      "Max weight capacity:\t300kg\n",
      "Number of items:\t200\n"
     ]
    }
   ],
   "source": [
    "print(\"Max weight capacity:\\t{}kg\".format(env.max_weight))\n",
    "print(\"Number of items:\\t{}\".format(env.N))"
   ]
  },
  {
   "cell_type": "markdown",
   "id": "99c91a62",
   "metadata": {},
   "source": [
    "### Example "
   ]
  },
  {
   "cell_type": "code",
   "execution_count": 12,
   "id": "94530a96",
   "metadata": {},
   "outputs": [
    {
     "data": {
      "text/plain": [
       "(3, 201)"
      ]
     },
     "execution_count": 12,
     "metadata": {},
     "output_type": "execute_result"
    }
   ],
   "source": [
    "actions = env.action_space.n\n",
    "states = env.observation_space\n",
    "states.shape"
   ]
  },
  {
   "cell_type": "code",
   "execution_count": 13,
   "id": "0e23fcf1",
   "metadata": {},
   "outputs": [
    {
     "name": "stdout",
     "output_type": "stream",
     "text": [
      "Episode: 1\n",
      "Take element number: 137\n",
      "Weight: 48\n",
      "Reward: 74\n",
      "Done: False\n",
      "Info: {}\n",
      "Weight Total:  48\n",
      "Reward Total:  74\n",
      "Items chosen:  [137]\n",
      "Rewards of the items:  [74]\n",
      "Weights of the items:  [48]\n",
      "[[ 83  61  33  37  84  79  44  55  93  62  93  55  95   1  40  59  37  73\n",
      "   61  56  55  31  80  94  35  75  63   9  33  49  37  33  56  39  45  90\n",
      "   90  65  23  57  52  10  18   9  49  72  29  47  57  58   7  26  97  83\n",
      "   23  77  85  54  17  97  91  69  29  56  89  41  93  94  88  57  43   7\n",
      "   93  16  55  19  94  23  43  24  29  89  59  34  88  12  17  38  30  26\n",
      "   90  28  79  21  74  14  34  58  33  70  55  44  85   4  99  51  52  96\n",
      "   27  35   9   3  82  73  58  98  14  82  54   2  16  71  43  51  87  32\n",
      "   70  73  21  81  78  51  16  29  65  40  76  48  62   9  77  72  80  99\n",
      "   31  58   4  13  78  70  43  25  76  60  11  42  41  48  36  90  53  12\n",
      "   18  76  51  17  35  97  33  70   5  60  57  43  52  85  78  79  73  39\n",
      "   70  87  21  38  93  72  54  85   3  29  19  37   6  40  41  68  80  78\n",
      "    9  26 300]\n",
      " [ 32  47  25  46  44  78  83  73  68  22   1  31  20  34  70  30  86  29\n",
      "   69  59  13  29  62  57  23  85  68   8  17  95  87  49  16  81  85  85\n",
      "   68  11  74  62  84  17   2  55  96  38   5  17  29  19  47  68  62  49\n",
      "   21  51  37  49  95  74  77  72  80  76  58  53  95  42   1  48  51  75\n",
      "   71  65   9  73  19  91  18  23  12  80  14  49  66  21  40  83  85  10\n",
      "   86  80  13  11  51  37   3  78  44  26   6  71  45   2  23  36   3  78\n",
      "   97  68  58   4  19  60  60  87  25  41  53  81  72  53  81  87  90  18\n",
      "   34  67  62  30  11  16  73  38  17  14  35  74  30  41  62  54  31  86\n",
      "   33  28  94  10  93  60  93  52  36  34   5  34  70  25   5  55  83  81\n",
      "   48  59  60  75  73  67  55  79  79  85  46  11   8  46  17  93   7  95\n",
      "   20  51   9  55  69  66  99  40  35  93  11  62  26  28  40  37   1  84\n",
      "   42  65  48]\n",
      " [  6   1   9   6   8   6   7   3   9   5   5   3   6   9   3   3   9   2\n",
      "    2   1   8   9   1   4   3   7   1   2   1   5   5   4   6   2   2   4\n",
      "    5   1   6   9   1   7   3   4   6   5   7   2   7   6   2   4   7   4\n",
      "    5   3   4   3   4   7   6   3   8   3   7   3   2   5   8   1   7   1\n",
      "    1   9   3   4   5   8   7   7   2   8   3   8   2   6   3   8   7   2\n",
      "    7   4   8   4   6   2   9   3   8   5   6   6   9   2   6   8   5   8\n",
      "    4   7   2   5   3   1   4   9   6   2   8   4   8   2   8   4   8   7\n",
      "    7   4   6   4   7   6   5   5   5   6   7   5   8   9   5   5   1   7\n",
      "    9   8   1   7   5   8   2   7   6   4   3   6   3   4   1   2   8   8\n",
      "    2   6   3   9   2   4   2   6   8   1   3   1   5   4   1   3   5   5\n",
      "    1   5   4   1   4   4   4   9   7   5   6   5   7   7   1   2   1   7\n",
      "    5   3   0]]\n"
     ]
    },
    {
     "ename": "TypeError",
     "evalue": "KnapsackEnv.render() takes 1 positional argument but 2 were given",
     "output_type": "error",
     "traceback": [
      "\u001b[1;31m---------------------------------------------------------------------------\u001b[0m",
      "\u001b[1;31mTypeError\u001b[0m                                 Traceback (most recent call last)",
      "Cell \u001b[1;32mIn[13], line 32\u001b[0m\n\u001b[0;32m     30\u001b[0m \u001b[38;5;28mprint\u001b[39m(\u001b[38;5;124m\"\u001b[39m\u001b[38;5;124mWeights of the items: \u001b[39m\u001b[38;5;124m\"\u001b[39m, weights)\n\u001b[0;32m     31\u001b[0m \u001b[38;5;28mprint\u001b[39m(next_state)\n\u001b[1;32m---> 32\u001b[0m \u001b[38;5;28mprint\u001b[39m(\u001b[43menv\u001b[49m\u001b[38;5;241;43m.\u001b[39;49m\u001b[43mrender\u001b[49m\u001b[43m(\u001b[49m\u001b[43m)\u001b[49m)\n\u001b[0;32m     33\u001b[0m \u001b[38;5;28;01mif\u001b[39;00m weight_total \u001b[38;5;241m>\u001b[39m\u001b[38;5;241m=\u001b[39m \u001b[38;5;241m300\u001b[39m:\n\u001b[0;32m     34\u001b[0m     \u001b[38;5;28;01mbreak\u001b[39;00m\n",
      "File \u001b[1;32m~\\anaconda3\\lib\\site-packages\\gym\\core.py:295\u001b[0m, in \u001b[0;36mWrapper.render\u001b[1;34m(self, mode, **kwargs)\u001b[0m\n\u001b[0;32m    294\u001b[0m \u001b[38;5;28;01mdef\u001b[39;00m \u001b[38;5;21mrender\u001b[39m(\u001b[38;5;28mself\u001b[39m, mode\u001b[38;5;241m=\u001b[39m\u001b[38;5;124m\"\u001b[39m\u001b[38;5;124mhuman\u001b[39m\u001b[38;5;124m\"\u001b[39m, \u001b[38;5;241m*\u001b[39m\u001b[38;5;241m*\u001b[39mkwargs):\n\u001b[1;32m--> 295\u001b[0m     \u001b[38;5;28;01mreturn\u001b[39;00m \u001b[38;5;28mself\u001b[39m\u001b[38;5;241m.\u001b[39menv\u001b[38;5;241m.\u001b[39mrender(mode, \u001b[38;5;241m*\u001b[39m\u001b[38;5;241m*\u001b[39mkwargs)\n",
      "\u001b[1;31mTypeError\u001b[0m: KnapsackEnv.render() takes 1 positional argument but 2 were given"
     ]
    }
   ],
   "source": [
    "env.reset()\n",
    "episode = 0\n",
    "done = False\n",
    "reward_total = 0\n",
    "weight_total = 0\n",
    "elements = []\n",
    "rewards = []\n",
    "weights = []\n",
    "highest = 0\n",
    "for i in range(10):\n",
    "    episode += 1\n",
    "    print(\"Episode: \" + str(episode))\n",
    "    action = np.random.randint(actions)\n",
    "    print(\"Take element number: \" + str(action))\n",
    "    next_state, reward, done, info = env.step(action)\n",
    "    weight = next_state[0][action]\n",
    "    print(\"Weight: \" + str(weight))\n",
    "    weights.append(weight)\n",
    "    weight_total = weight_total + weight\n",
    "    rewards.append(reward)\n",
    "    elements.append(action)\n",
    "    print(\"Reward: \" + str(reward))\n",
    "    print(\"Done: \" + str(done))\n",
    "    print(\"Info: \" + str(info))\n",
    "    reward_total = reward_total + reward\n",
    "    print(\"Weight Total: \", int(weight_total))\n",
    "    print(\"Reward Total: \", int(reward_total))\n",
    "    print(\"Items chosen: \", elements)\n",
    "    print(\"Rewards of the items: \", rewards)\n",
    "    print(\"Weights of the items: \", weights)\n",
    "    print(next_state)\n",
    "    print(env.render())\n",
    "    if weight_total >= 300:\n",
    "        break\n",
    "    i+=1\n",
    "if reward_total > highest:\n",
    "        highest = reward_total\n",
    "print(\"Highest reward found: \", highest)"
   ]
  },
  {
   "cell_type": "markdown",
   "id": "92c37bb1",
   "metadata": {},
   "source": [
    "## Deep Q Network"
   ]
  },
  {
   "cell_type": "code",
   "execution_count": 51,
   "id": "f9ce24c1",
   "metadata": {},
   "outputs": [],
   "source": [
    "from stable_baselines3 import DQN\n",
    "import stable_baselines3\n",
    "import torch as th\n",
    "\n",
    "# Hyperparameters\n",
    "\n",
    "total_timesteps = 200000\n",
    "gamma = 0.995\n",
    "target_update_interval = 10000\n",
    "tau = 1.0\n",
    "batch_size = 32\n",
    "exploration_fraction = 0.01\n",
    "lr = 0.0001\n",
    "max_grad_norm = 100\n",
    "train_freq = (100, \"episode\")\n",
    "exploration_initial_eps=1.0\n",
    "exploration_final_eps=0.05\n",
    "\n",
    "policy_kwargs = dict(activation_fn=th.nn.ReLU, net_arch=[5,5,5]) # 3 hidden layers with 5 neurons each\n",
    "\n",
    "#optimize_memory_usage=True,\n",
    "#, tensorboard_log=\"model/DQN_Knapsack_tensorboard/\"\n",
    "#, tb_log_name=\"DQN_Knapsack\"\n",
    "\n",
    "model = DQN(\"MlpPolicy\", env, learning_rate=lr,\n",
    "            batch_size=batch_size, tau=tau, gamma=gamma, \n",
    "            gradient_steps=1, target_update_interval=target_update_interval, \n",
    "            exploration_fraction=exploration_fraction,\n",
    "            exploration_initial_eps=exploration_initial_eps, exploration_final_eps=exploration_final_eps, \n",
    "            max_grad_norm=max_grad_norm, verbose=0, train_freq=train_freq)\n",
    "\n",
    "model.learn(total_timesteps=total_timesteps, log_interval=10)\n",
    "model.save(f'DQN_Best_{total_timesteps}')"
   ]
  },
  {
   "cell_type": "code",
   "execution_count": 52,
   "id": "7c5a41f1",
   "metadata": {},
   "outputs": [
    {
     "name": "stdout",
     "output_type": "stream",
     "text": [
      "ok\n"
     ]
    }
   ],
   "source": [
    "theta = []\n",
    "omega = []\n",
    "rewards = []\n",
    "cum_rew = 0\n",
    "cum_rewards = []\n",
    "\n",
    "\n",
    "# Simulating the agent\n",
    "obs = env.reset()\n",
    "\n",
    "try:\n",
    "    for _ in range(100):\n",
    "        action, _states = model.predict(obs)\n",
    "        obs, reward, done, info = env.step(action)\n",
    "        rewards.append(reward)\n",
    "        cum_rew += reward\n",
    "        cum_rewards.append(cum_rew)\n",
    "        #env.render()\n",
    "        # print(obs)\n",
    "        # print(reward)\n",
    "finally:\n",
    "    #env.close()\n",
    "    print(\"ok\")"
   ]
  },
  {
   "cell_type": "code",
   "execution_count": 53,
   "id": "3ab096d8",
   "metadata": {},
   "outputs": [
    {
     "name": "stderr",
     "output_type": "stream",
     "text": [
      "No artists with labels found to put in legend.  Note that artists whose label start with an underscore are ignored when legend() is called with no argument.\n"
     ]
    },
    {
     "data": {
      "image/png": "[encoded data removed]",
      "text/plain": [
       "<Figure size 640x480 with 1 Axes>"
      ]
     },
     "metadata": {},
     "output_type": "display_data"
    },
    {
     "data": {
      "image/png": "[encoded data removed]",
      "text/plain": [
       "<Figure size 640x480 with 1 Axes>"
      ]
     },
     "metadata": {},
     "output_type": "display_data"
    }
   ],
   "source": [
    "import matplotlib.pyplot as plt\n",
    "%matplotlib inline\n",
    "\n",
    "plt.plot(rewards)\n",
    "plt.xlabel('Iterations')\n",
    "plt.ylabel('Rewards')\n",
    "plt.legend()\n",
    "plt.show()\n",
    "\n",
    "plt.plot(cum_rewards)\n",
    "plt.xlabel('Iterations')\n",
    "plt.ylabel('Cumulative Rewards')\n",
    "plt.show()"
   ]
  },
  {
   "cell_type": "code",
   "execution_count": null,
   "id": "f18cf5f0",
   "metadata": {},
   "outputs": [],
   "source": [
    "# Hyperparameters\n",
    "\n",
    "total_timesteps = 2000000\n",
    "gamma = 0.995\n",
    "target_update_interval = 10000\n",
    "tau = 1.0\n",
    "batch_size = 32\n",
    "exploration_fraction = 0.01\n",
    "lr = 0.001\n",
    "max_grad_norm = 100\n",
    "train_freq = (100, \"episode\")\n",
    "exploration_initial_eps=1.0\n",
    "exploration_final_eps=0.05\n",
    "\n",
    "policy_kwargs = dict(activation_fn=th.nn.ReLU, net_arch=[64,64]) # 2 hidden layers with 64 neurons each\n",
    "\n",
    "#optimize_memory_usage=True,\n",
    "#, tensorboard_log=\"model/DQN_Knapsack_tensorboard/\"\n",
    "#, tb_log_name=\"DQN_Knapsack\"\n",
    "\n",
    "model = DQN(\"MlpPolicy\", env, learning_rate=lr,\n",
    "            batch_size=batch_size, tau=tau, gamma=gamma, \n",
    "            gradient_steps=1, target_update_interval=target_update_interval, \n",
    "            exploration_fraction=exploration_fraction,\n",
    "            exploration_initial_eps=exploration_initial_eps, exploration_final_eps=exploration_final_eps, \n",
    "            max_grad_norm=max_grad_norm, verbose=0, train_freq=train_freq)\n",
    "\n",
    "model.learn(total_timesteps=total_timesteps, log_interval=10)\n",
    "model.save(f'DQN_Best_{total_timesteps}')"
   ]
  },
  {
   "cell_type": "code",
   "execution_count": null,
   "id": "1f365f77",
   "metadata": {},
   "outputs": [],
   "source": [
    "theta = []\n",
    "omega = []\n",
    "rewards = []\n",
    "cum_rew = 0\n",
    "cum_rewards = []\n",
    "\n",
    "\n",
    "# Simulating the agent\n",
    "obs = env.reset()\n",
    "\n",
    "try:\n",
    "    for _ in range(100):\n",
    "        action, _states = model.predict(obs)\n",
    "        obs, reward, done, info = env.step(action)\n",
    "        rewards.append(reward)\n",
    "        cum_rew += reward\n",
    "        cum_rewards.append(cum_rew)\n",
    "        #env.render()\n",
    "        # print(obs)\n",
    "        # print(reward)\n",
    "finally:\n",
    "    #env.close()\n",
    "    print(\"ok\")"
   ]
  },
  {
   "cell_type": "code",
   "execution_count": null,
   "id": "57eed51d",
   "metadata": {},
   "outputs": [],
   "source": [
    "import matplotlib.pyplot as plt\n",
    "%matplotlib inline\n",
    "\n",
    "plt.plot(rewards)\n",
    "plt.xlabel('Iterations')\n",
    "plt.ylabel('Rewards')\n",
    "plt.legend()\n",
    "plt.show()\n",
    "\n",
    "plt.plot(cum_rewards)\n",
    "plt.xlabel('Iterations')\n",
    "plt.ylabel('Cumulative Rewards')\n",
    "plt.show()"
   ]
  },
  {
   "cell_type": "markdown",
   "id": "45bff407",
   "metadata": {},
   "source": [
    "## A2C"
   ]
  },
  {
   "cell_type": "code",
   "execution_count": 25,
   "id": "50a3544c",
   "metadata": {},
   "outputs": [],
   "source": [
    "#conda install pytorch==1.12.1 torchvision==0.13.1 torchaudio==0.12.1 cpuonly -c pytorch"
   ]
  },
  {
   "cell_type": "code",
   "execution_count": 42,
   "id": "2967ee1a",
   "metadata": {},
   "outputs": [],
   "source": [
    "from stable_baselines3 import A2C\n",
    "import torch as th\n",
    "\n",
    "# Hyperparameters\n",
    "total_timesteps = 2000000\n",
    "gamma = 0.99\n",
    "target_update_interval = 1000\n",
    "#value_coeff = 0.6 # vf_coef= value_coeff,\n",
    "#entropy_coeff = 0.9 # ent_coef = entropy_coeff, \n",
    "lr = 0.001\n",
    "max_grad_norm = 1\n",
    "rms_prop_eps = 1e-06\n",
    "\n",
    "\n",
    "policy_kwargs = dict(activation_fn=th.nn.ReLU, net_arch=[32,32]) # 2 hidden layers with 32 neurons each\n",
    "\n",
    "#create_eval_env=False,\n",
    "#tb_log_name=\"A2C_Knapsack\"\n",
    "\n",
    "model = A2C(\"MlpPolicy\", env, learning_rate=lr, n_steps = 100, gamma = gamma, \n",
    "            max_grad_norm = max_grad_norm, rms_prop_eps = rms_prop_eps, use_rms_prop = True, \n",
    "            normalize_advantage= False,   \n",
    "            policy_kwargs = policy_kwargs, verbose = 0,  tensorboard_log=None)\n",
    "\n",
    "\n",
    "model.learn(total_timesteps=total_timesteps, log_interval=1000)\n",
    "model.save(f'A2C_Best_{total_timesteps}')"
   ]
  },
  {
   "cell_type": "code",
   "execution_count": 43,
   "id": "78f9f0ae",
   "metadata": {},
   "outputs": [
    {
     "name": "stdout",
     "output_type": "stream",
     "text": [
      "ok\n",
      "Rewards:  [94, 75, 87, 87, 90, 50, 63, 90, 94, 94, 90, 50, 99, 94, 56, 50, 90, 87, 50, 67, 63, 87, 94, 87, 95, 90, 24, 81, 81, 50, 63, 87, 87, 87, 87, 87, 94, 50, 63, 81, 0, 81, 81, 50, 0, 0, 0, 0, 0, 0, 94, 0, 0, 0, 0, 0, 0, 0, 0, 0, 0, 0, 0, 0, 0, 0, 0, 0, 0, 0, 0, 0, 0, 0, 0, 0, 0, 0, 0, 0, 0, 0, 0, 0, 0, 0, 0, 0, 0, 0, 0, 0, 0, 0, 0, 0, 0, 0, 0, 0]\n",
      "Cumulative Rewards:  [94, 169, 256, 343, 433, 483, 546, 636, 730, 824, 914, 964, 1063, 1157, 1213, 1263, 1353, 1440, 1490, 1557, 1620, 1707, 1801, 1888, 1983, 2073, 2097, 2178, 2259, 2309, 2372, 2459, 2546, 2633, 2720, 2807, 2901, 2951, 3014, 3095, 3095, 3176, 3257, 3307, 3307, 3307, 3307, 3307, 3307, 3307, 3401, 3401, 3401, 3401, 3401, 3401, 3401, 3401, 3401, 3401, 3401, 3401, 3401, 3401, 3401, 3401, 3401, 3401, 3401, 3401, 3401, 3401, 3401, 3401, 3401, 3401, 3401, 3401, 3401, 3401, 3401, 3401, 3401, 3401, 3401, 3401, 3401, 3401, 3401, 3401, 3401, 3401, 3401, 3401, 3401, 3401, 3401, 3401, 3401, 3401]\n"
     ]
    }
   ],
   "source": [
    "vtheta = []\n",
    "omega = []\n",
    "rewards = []\n",
    "cum_rew = 0\n",
    "cum_rewards = []\n",
    "\n",
    "\n",
    "# Simulating the agent\n",
    "obs = env.reset()\n",
    "\n",
    "try:\n",
    "    for _ in range(100):\n",
    "        action, _states = model.predict(obs)\n",
    "        obs, reward, done, info = env.step(action)\n",
    "        rewards.append(reward)\n",
    "        cum_rew += reward\n",
    "        cum_rewards.append(cum_rew)\n",
    "        # print(obs)\n",
    "        # print(reward)\n",
    "finally:\n",
    "    #env.close()\n",
    "    print(\"ok\")\n",
    "\n",
    "print(\"Rewards: \", rewards)\n",
    "print(\"Cumulative Rewards: \", cum_rewards)"
   ]
  },
  {
   "cell_type": "code",
   "execution_count": 44,
   "id": "0704a02f",
   "metadata": {},
   "outputs": [
    {
     "name": "stderr",
     "output_type": "stream",
     "text": [
      "No artists with labels found to put in legend.  Note that artists whose label start with an underscore are ignored when legend() is called with no argument.\n"
     ]
    },
    {
     "data": {
      "image/png": "[encoded data removed]",
      "text/plain": [
       "<Figure size 640x480 with 1 Axes>"
      ]
     },
     "metadata": {},
     "output_type": "display_data"
    },
    {
     "data": {
      "image/png": "[encoded data removed]",
      "text/plain": [
       "<Figure size 640x480 with 1 Axes>"
      ]
     },
     "metadata": {},
     "output_type": "display_data"
    }
   ],
   "source": [
    "import matplotlib.pyplot as plt\n",
    "%matplotlib inline\n",
    "\n",
    "plt.plot(rewards)\n",
    "plt.xlabel('Iterations')\n",
    "plt.ylabel('Rewards')\n",
    "plt.legend()\n",
    "plt.show()\n",
    "\n",
    "plt.plot(cum_rewards)\n",
    "plt.xlabel('Iterations')\n",
    "plt.ylabel('Cumulative Rewards')\n",
    "plt.show()"
   ]
  },
  {
   "cell_type": "code",
   "execution_count": null,
   "id": "43aaa6d5",
   "metadata": {},
   "outputs": [],
   "source": [
    "from stable_baselines3 import A2C\n",
    "import torch as th\n",
    "\n",
    "# Hyperparameters\n",
    "total_timesteps = 2000000\n",
    "gamma = 0.99\n",
    "target_update_interval = 1000\n",
    "#value_coeff = 0.6 # vf_coef= value_coeff,\n",
    "#entropy_coeff = 0.9 # ent_coef = entropy_coeff, \n",
    "lr = 0.001\n",
    "max_grad_norm = 1\n",
    "rms_prop_eps = 1e-06\n",
    "\n",
    "policy_kwargs = dict(activation_fn=th.nn.ReLU, net_arch=[5,5,5]) \n",
    "\n",
    "#create_eval_env=False,\n",
    "#tb_log_name=\"A2C_Knapsack\"\n",
    "\n",
    "model = A2C(\"MlpPolicy\", env, learning_rate=lr, n_steps = 100, gamma = gamma, \n",
    "            max_grad_norm = max_grad_norm, rms_prop_eps = rms_prop_eps, use_rms_prop = True, \n",
    "            normalize_advantage= False,   \n",
    "            policy_kwargs = policy_kwargs, verbose = 0,  tensorboard_log=None)\n",
    "\n",
    "\n",
    "model.learn(total_timesteps=total_timesteps, log_interval=1000)\n",
    "model.save(f'A2C_Best_{total_timesteps}')"
   ]
  },
  {
   "cell_type": "code",
   "execution_count": null,
   "id": "8f673c76",
   "metadata": {},
   "outputs": [],
   "source": [
    "vtheta = []\n",
    "omega = []\n",
    "rewards = []\n",
    "cum_rew = 0\n",
    "cum_rewards = []\n",
    "\n",
    "\n",
    "# Simulating the agent\n",
    "obs = env.reset()\n",
    "\n",
    "try:\n",
    "    for _ in range(100):\n",
    "        action, _states = model.predict(obs)\n",
    "        obs, reward, done, info = env.step(action)\n",
    "        rewards.append(reward)\n",
    "        cum_rew += reward\n",
    "        cum_rewards.append(cum_rew)\n",
    "        # print(obs)\n",
    "        # print(reward)\n",
    "finally:\n",
    "    #env.close()\n",
    "    print(\"ok\")\n",
    "\n",
    "print(\"Rewards: \", rewards)\n",
    "print(\"Cumulative Rewards: \", cum_rewards)"
   ]
  },
  {
   "cell_type": "code",
   "execution_count": null,
   "id": "c7fca17d",
   "metadata": {},
   "outputs": [],
   "source": [
    "import matplotlib.pyplot as plt\n",
    "%matplotlib inline\n",
    "\n",
    "plt.plot(rewards)\n",
    "plt.xlabel('Iterations')\n",
    "plt.ylabel('Rewards')\n",
    "plt.legend()\n",
    "plt.show()\n",
    "\n",
    "plt.plot(cum_rewards)\n",
    "plt.xlabel('Iterations')\n",
    "plt.ylabel('Cumulative Rewards')\n",
    "plt.show()"
   ]
  },
  {
   "cell_type": "markdown",
   "id": "6de92ddb",
   "metadata": {},
   "source": [
    "PPO"
   ]
  },
  {
   "cell_type": "code",
   "execution_count": 65,
   "id": "4cb62c4c",
   "metadata": {},
   "outputs": [
    {
     "name": "stdout",
     "output_type": "stream",
     "text": [
      "Using cpu device\n",
      "Wrapping the env with a `Monitor` wrapper\n",
      "Wrapping the env in a DummyVecEnv.\n"
     ]
    }
   ],
   "source": [
    "from stable_baselines3 import PPO\n",
    "\n",
    "\n",
    "# Hyperparameters\n",
    "total_timesteps = 2000000\n",
    "gamma = 0.99\n",
    "lr = 0.0003\n",
    "normalize_adv = True\n",
    "n_epochs = 100\n",
    "batch_size = 64\n",
    "gae_lambda = 0.9\n",
    "clip_range=0.2\n",
    "#ent_coef=0.0 \n",
    "#vf_coef=0.5\n",
    "max_grad_norm=0.5\n",
    "\n",
    "policy_kwargs = dict(activation_fn=th.nn.ReLU, net_arch=[64,64]) # 2 hidden layers with 32 neurons each\n",
    "\n",
    "#create_eval_env=False,\n",
    "#tb_log_name=\"A2C_Knapsack\"\n",
    "\n",
    "model = PPO(\"MlpPolicy\", env, learning_rate=lr, n_steps = 100, gamma = gamma, \n",
    "            n_epochs=n_epochs, batch_size=batch_size, gae_lambda=gae_lambda, \n",
    "            clip_range=clip_range, normalize_advantage=normalize_adv, ent_coef=ent_coef, \n",
    "            vf_coef=vf_coef, max_grad_norm=max_grad_norm,  \n",
    "            policy_kwargs = policy_kwargs, verbose = 1,  tensorboard_log=None)\n",
    "\n",
    "\n",
    "model.learn(total_timesteps=total_timesteps, log_interval=1000)\n",
    "model.save(f'PPO_Best_{total_timesteps}')"
   ]
  },
  {
   "cell_type": "code",
   "execution_count": 66,
   "id": "1f208baa",
   "metadata": {},
   "outputs": [
    {
     "name": "stdout",
     "output_type": "stream",
     "text": [
      "ok\n",
      "Rewards:  [63, 63, 99, 67, 99, 50, 87, 99, 94, 99, 63, 50, 90, 94, 90, 87, 50, 50, 50, 67, 50, 87, 96, 87, 50, 67, 87, 54, 95, 24, 87, 0, 96, 24, 87, 90, 95, 54, 87, 94, 94, 0, 24, 24, 87, 94, 0, 0, 0, 94, 0, 0, 0, 0, 0, 0, 0, 0, 0, 0, 94, 0, 0, 0, 0, 0, 0, 0, 0, 0, 0, 0, 0, 0, 0, 0, 0, 0, 0, 0, 0, 0, 0, 0, 0, 0, 0, 0, 0, 0, 0, 0, 0, 0, 0, 0, 0, 0, 0, 0]\n",
      "Cumulative Rewards:  [63, 126, 225, 292, 391, 441, 528, 627, 721, 820, 883, 933, 1023, 1117, 1207, 1294, 1344, 1394, 1444, 1511, 1561, 1648, 1744, 1831, 1881, 1948, 2035, 2089, 2184, 2208, 2295, 2295, 2391, 2415, 2502, 2592, 2687, 2741, 2828, 2922, 3016, 3016, 3040, 3064, 3151, 3245, 3245, 3245, 3245, 3339, 3339, 3339, 3339, 3339, 3339, 3339, 3339, 3339, 3339, 3339, 3433, 3433, 3433, 3433, 3433, 3433, 3433, 3433, 3433, 3433, 3433, 3433, 3433, 3433, 3433, 3433, 3433, 3433, 3433, 3433, 3433, 3433, 3433, 3433, 3433, 3433, 3433, 3433, 3433, 3433, 3433, 3433, 3433, 3433, 3433, 3433, 3433, 3433, 3433, 3433]\n"
     ]
    }
   ],
   "source": [
    "vtheta = []\n",
    "omega = []\n",
    "rewards = []\n",
    "cum_rew = 0\n",
    "cum_rewards = []\n",
    "\n",
    "\n",
    "# Simulating the agent\n",
    "obs = env.reset()\n",
    "\n",
    "try:\n",
    "    for _ in range(100):\n",
    "        action, _states = model.predict(obs)\n",
    "        obs, reward, done, info = env.step(action)\n",
    "        rewards.append(reward)\n",
    "        cum_rew += reward\n",
    "        cum_rewards.append(cum_rew)\n",
    "        # print(obs)\n",
    "        # print(reward)\n",
    "finally:\n",
    "    #env.close()\n",
    "    print(\"ok\")\n",
    "\n",
    "print(\"Rewards: \", rewards)\n",
    "print(\"Cumulative Rewards: \", cum_rewards)"
   ]
  },
  {
   "cell_type": "code",
   "execution_count": 67,
   "id": "ec52f0a2",
   "metadata": {},
   "outputs": [
    {
     "name": "stderr",
     "output_type": "stream",
     "text": [
      "No artists with labels found to put in legend.  Note that artists whose label start with an underscore are ignored when legend() is called with no argument.\n"
     ]
    },
    {
     "data": {
      "image/png": "[encoded data removed]",
      "text/plain": [
       "<Figure size 640x480 with 1 Axes>"
      ]
     },
     "metadata": {},
     "output_type": "display_data"
    },
    {
     "data": {
      "image/png": "[encoded data removed]",
      "text/plain": [
       "<Figure size 640x480 with 1 Axes>"
      ]
     },
     "metadata": {},
     "output_type": "display_data"
    }
   ],
   "source": [
    "import matplotlib.pyplot as plt\n",
    "%matplotlib inline\n",
    "\n",
    "plt.plot(rewards)\n",
    "plt.xlabel('Iterations')\n",
    "plt.ylabel('Rewards')\n",
    "plt.legend()\n",
    "plt.show()\n",
    "\n",
    "plt.plot(cum_rewards)\n",
    "plt.xlabel('Iterations')\n",
    "plt.ylabel('Cumulative Rewards')\n",
    "plt.show()"
   ]
  },
  {
   "cell_type": "code",
   "execution_count": null,
   "id": "e84cfb7e",
   "metadata": {},
   "outputs": [],
   "source": [
    "# Hyperparameters\n",
    "total_timesteps = 2000000\n",
    "gamma = 0.99\n",
    "lr = 0.0003\n",
    "normalize_adv = True\n",
    "n_epochs = 100\n",
    "batch_size = 64\n",
    "gae_lambda = 0.9\n",
    "clip_range=0.2\n",
    "#ent_coef=0.0 \n",
    "#vf_coef=0.5\n",
    "max_grad_norm=0.5\n",
    "policy_kwargs = dict(activation_fn=th.nn.ReLU, net_arch=[5,5,5]) \n",
    "\n",
    "#create_eval_env=False,\n",
    "#tb_log_name=\"A2C_Knapsack\"\n",
    "\n",
    "model = PPO(\"MlpPolicy\", env, learning_rate=lr, n_steps = 100, gamma = gamma, \n",
    "            n_epochs=n_epochs, batch_size=batch_size, gae_lambda=gae_lambda, \n",
    "            clip_range=clip_range, normalize_advantage=normalize_adv, ent_coef=ent_coef, \n",
    "            vf_coef=vf_coef, max_grad_norm=max_grad_norm,  \n",
    "            policy_kwargs = policy_kwargs, verbose = 1,  tensorboard_log=None)\n",
    "\n",
    "\n",
    "model.learn(total_timesteps=total_timesteps, log_interval=1000)\n",
    "model.save(f'PPO_Best_{total_timesteps}')"
   ]
  },
  {
   "cell_type": "code",
   "execution_count": null,
   "id": "a933945a",
   "metadata": {},
   "outputs": [],
   "source": [
    "vtheta = []\n",
    "omega = []\n",
    "rewards = []\n",
    "cum_rew = 0\n",
    "cum_rewards = []\n",
    "\n",
    "\n",
    "# Simulating the agent\n",
    "obs = env.reset()\n",
    "\n",
    "try:\n",
    "    for _ in range(100):\n",
    "        action, _states = model.predict(obs)\n",
    "        obs, reward, done, info = env.step(action)\n",
    "        rewards.append(reward)\n",
    "        cum_rew += reward\n",
    "        cum_rewards.append(cum_rew)\n",
    "        # print(obs)\n",
    "        # print(reward)\n",
    "finally:\n",
    "    #env.close()\n",
    "    print(\"ok\")\n",
    "\n",
    "print(\"Rewards: \", rewards)\n",
    "print(\"Cumulative Rewards: \", cum_rewards)"
   ]
  },
  {
   "cell_type": "code",
   "execution_count": null,
   "id": "f39cd0f9",
   "metadata": {},
   "outputs": [],
   "source": [
    "import matplotlib.pyplot as plt\n",
    "%matplotlib inline\n",
    "\n",
    "plt.plot(rewards)\n",
    "plt.xlabel('Iterations')\n",
    "plt.ylabel('Rewards')\n",
    "plt.legend()\n",
    "plt.show()\n",
    "\n",
    "plt.plot(cum_rewards)\n",
    "plt.xlabel('Iterations')\n",
    "plt.ylabel('Cumulative Rewards')\n",
    "plt.show()"
   ]
  }
 ],
 "metadata": {
  "kernelspec": {
   "display_name": "Python 3 (ipykernel)",
   "language": "python",
   "name": "python3"
  },
  "language_info": {
   "codemirror_mode": {
    "name": "ipython",
    "version": 3
   },
   "file_extension": ".py",
   "mimetype": "text/x-python",
   "name": "python",
   "nbconvert_exporter": "python",
   "pygments_lexer": "ipython3",
   "version": "3.10.9"
  }
 },
 "nbformat": 4,
 "nbformat_minor": 5
}
